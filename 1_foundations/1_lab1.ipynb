{
 "cells": [
  {
   "cell_type": "markdown",
   "metadata": {},
   "source": [
    "# Welcome to the start of your adventure in Agentic AI"
   ]
  },
  {
   "cell_type": "markdown",
   "metadata": {},
   "source": [
    "<table style=\"margin: 0; text-align: left; width:100%\">\n",
    "    <tr>\n",
    "        <td style=\"width: 150px; height: 150px; vertical-align: middle;\">\n",
    "            <img src=\"../assets/stop.png\" width=\"150\" height=\"150\" style=\"display: block;\" />\n",
    "        </td>\n",
    "        <td>\n",
    "            <h2 style=\"color:#ff7800;\">Are you ready for action??</h2>\n",
    "            <span style=\"color:#ff7800;\">Have you completed all the setup steps in the <a href=\"../setup/\">setup</a> folder?<br/>\n",
    "            Have you checked out the guides in the <a href=\"../guides/01_intro.ipynb\">guides</a> folder?<br/>\n",
    "            Well in that case, you're ready!!\n",
    "            </span>\n",
    "        </td>\n",
    "    </tr>\n",
    "</table>"
   ]
  },
  {
   "cell_type": "markdown",
   "metadata": {},
   "source": [
    "<table style=\"margin: 0; text-align: left; width:100%\">\n",
    "    <tr>\n",
    "        <td style=\"width: 150px; height: 150px; vertical-align: middle;\">\n",
    "            <img src=\"../assets/tools.png\" width=\"150\" height=\"150\" style=\"display: block;\" />\n",
    "        </td>\n",
    "        <td>\n",
    "            <h2 style=\"color:#00bfff;\">This code is a live resource - keep an eye out for my updates</h2>\n",
    "            <span style=\"color:#00bfff;\">I push updates regularly. As people ask questions or have problems, I add more examples and improve explanations. As a result, the code below might not be identical to the videos, as I've added more steps and better comments. Consider this like an interactive book that accompanies the lectures.<br/><br/>\n",
    "            I try to send emails regularly with important updates related to the course. You can find this in the 'Announcements' section of Udemy in the left sidebar. You can also choose to receive my emails via your Notification Settings in Udemy. I'm respectful of your inbox and always try to add value with my emails!\n",
    "            </span>\n",
    "        </td>\n",
    "    </tr>\n",
    "</table>"
   ]
  },
  {
   "cell_type": "markdown",
   "metadata": {},
   "source": [
    "### And please do remember to contact me if I can help\n",
    "\n",
    "And I love to connect: https://www.linkedin.com/in/eddonner/\n",
    "\n",
    "\n",
    "### New to Notebooks like this one? Head over to the guides folder!\n",
    "\n",
    "Just to check you've already added the Python and Jupyter extensions to Cursor, if not already installed:\n",
    "- Open extensions (View >> extensions)\n",
    "- Search for python, and when the results show, click on the ms-python one, and Install it if not already installed\n",
    "- Search for jupyter, and when the results show, click on the Microsoft one, and Install it if not already installed  \n",
    "Then View >> Explorer to bring back the File Explorer.\n",
    "\n",
    "And then:\n",
    "1. Click where it says \"Select Kernel\" near the top right, and select the option called `.venv (Python 3.12.9)` or similar, which should be the first choice or the most prominent choice. You may need to choose \"Python Environments\" first.\n",
    "2. Click in each \"cell\" below, starting with the cell immediately below this text, and press Shift+Enter to run\n",
    "3. Enjoy!\n",
    "\n",
    "After you click \"Select Kernel\", if there is no option like `.venv (Python 3.12.9)` then please do the following:  \n",
    "1. On Mac: From the Cursor menu, choose Settings >> VS Code Settings (NOTE: be sure to select `VSCode Settings` not `Cursor Settings`);  \n",
    "On Windows PC: From the File menu, choose Preferences >> VS Code Settings(NOTE: be sure to select `VSCode Settings` not `Cursor Settings`)  \n",
    "2. In the Settings search bar, type \"venv\"  \n",
    "3. In the field \"Path to folder with a list of Virtual Environments\" put the path to the project root, like C:\\Users\\username\\projects\\agents (on a Windows PC) or /Users/username/projects/agents (on Mac or Linux).  \n",
    "And then try again.\n",
    "\n",
    "Having problems with missing Python versions in that list? Have you ever used Anaconda before? It might be interferring. Quit Cursor, bring up a new command line, and make sure that your Anaconda environment is deactivated:    \n",
    "`conda deactivate`  \n",
    "And if you still have any problems with conda and python versions, it's possible that you will need to run this too:  \n",
    "`conda config --set auto_activate_base false`  \n",
    "and then from within the Agents directory, you should be able to run `uv python list` and see the Python 3.12 version."
   ]
  },
  {
   "cell_type": "code",
   "execution_count": 24,
   "metadata": {},
   "outputs": [],
   "source": [
    "# First let's do an import\n",
    "from dotenv import load_dotenv\n"
   ]
  },
  {
   "cell_type": "code",
   "execution_count": 25,
   "metadata": {},
   "outputs": [
    {
     "data": {
      "text/plain": [
       "True"
      ]
     },
     "execution_count": 25,
     "metadata": {},
     "output_type": "execute_result"
    }
   ],
   "source": [
    "# Next it's time to load the API keys into environment variables\n",
    "\n",
    "load_dotenv(override=True)"
   ]
  },
  {
   "cell_type": "code",
   "execution_count": 26,
   "metadata": {},
   "outputs": [
    {
     "name": "stdout",
     "output_type": "stream",
     "text": [
      "DeepSeek API Key exists and begins sk-227f1\n"
     ]
    }
   ],
   "source": [
    "# Check the keys\n",
    "\n",
    "import os\n",
    "deepseek_api_key = os.getenv('DEEPSEEK_API_KEY')\n",
    "deepseek_base_url = 'https://api.deepseek.com/v1'\n",
    "\n",
    "if deepseek_api_key:\n",
    "    print(f\"DeepSeek API Key exists and begins {deepseek_api_key[:8]}\")\n",
    "else:\n",
    "    print(\"DeepSeek API Key not set - please head to the troubleshooting guide in the setup folder\")\n",
    "    \n"
   ]
  },
  {
   "cell_type": "code",
   "execution_count": 27,
   "metadata": {},
   "outputs": [],
   "source": [
    "# And now - the all important import statement\n",
    "# If you get an import error - head over to troubleshooting guide\n",
    "\n",
    "from openai import OpenAI"
   ]
  },
  {
   "cell_type": "code",
   "execution_count": 28,
   "metadata": {},
   "outputs": [],
   "source": [
    "# And now we'll create an instance of the OpenAI class\n",
    "# If you're not sure what it means to create an instance of a class - head over to the guides folder!\n",
    "# If you get a NameError - head over to the guides folder to learn about NameErrors\n",
    "\n",
    "client = OpenAI(api_key=deepseek_api_key, base_url=deepseek_base_url)"
   ]
  },
  {
   "cell_type": "code",
   "execution_count": 29,
   "metadata": {},
   "outputs": [],
   "source": [
    "# Create a list of messages in the familiar OpenAI format\n",
    "\n",
    "messages = [{\"role\": \"user\", \"content\": \"What is 2+2?\"}]"
   ]
  },
  {
   "cell_type": "code",
   "execution_count": 30,
   "metadata": {},
   "outputs": [
    {
     "name": "stdout",
     "output_type": "stream",
     "text": [
      "The sum of 2 + 2 is **4**.  \n",
      "\n",
      "Let me know if you'd like an explanation or have any other questions! 😊\n"
     ]
    }
   ],
   "source": [
    "# And now call it! Any problems, head to the troubleshooting guide\n",
    "\n",
    "response = client.chat.completions.create(\n",
    "    model=\"deepseek-chat\",\n",
    "    messages=messages\n",
    ")\n",
    "\n",
    "print(response.choices[0].message.content)"
   ]
  },
  {
   "cell_type": "code",
   "execution_count": 31,
   "metadata": {},
   "outputs": [],
   "source": [
    "# And now - let's ask for a question:\n",
    "\n",
    "question = \"Please propose a hard, challenging question to assess someone's IQ. Respond only with the question.\"\n",
    "messages = [{\"role\": \"user\", \"content\": question}]\n"
   ]
  },
  {
   "cell_type": "code",
   "execution_count": 32,
   "metadata": {},
   "outputs": [
    {
     "name": "stdout",
     "output_type": "stream",
     "text": [
      "\"If all Bloops are Razzies and all Razzies are Lazzies, is it true that all Bloops are definitely Lazzies? Explain your reasoning.\"\n"
     ]
    }
   ],
   "source": [
    "# ask it - this uses GPT 4.1 mini, still cheap but more powerful than nano\n",
    "\n",
    "response = client.chat.completions.create(\n",
    "    model=\"deepseek-chat\",\n",
    "    messages=messages\n",
    ")\n",
    "\n",
    "question = response.choices[0].message.content\n",
    "\n",
    "print(question)\n"
   ]
  },
  {
   "cell_type": "code",
   "execution_count": 33,
   "metadata": {},
   "outputs": [],
   "source": [
    "# form a new messages list\n",
    "messages = [{\"role\": \"user\", \"content\": question}]\n"
   ]
  },
  {
   "cell_type": "code",
   "execution_count": 34,
   "metadata": {},
   "outputs": [
    {
     "name": "stdout",
     "output_type": "stream",
     "text": [
      "Alright, let's tackle this problem step by step. I'm going to break it down to understand whether all Bloops are definitely Lazzies given the two statements.\n",
      "\n",
      "### Understanding the Given Statements\n",
      "\n",
      "We have two statements:\n",
      "\n",
      "1. **All Bloops are Razzies.**\n",
      "2. **All Razzies are Lazzies.**\n",
      "\n",
      "Our goal is to determine if it necessarily follows that **all Bloops are definitely Lazzies**.\n",
      "\n",
      "### Translating to Logical Terms\n",
      "\n",
      "First, let's think about what these statements mean in terms of sets or categories.\n",
      "\n",
      "- Let **B** represent the set of all Bloops.\n",
      "- Let **R** represent the set of all Razzies.\n",
      "- Let **L** represent the set of all Lazzies.\n",
      "\n",
      "Now, the statements can be rewritten as:\n",
      "\n",
      "1. All Bloops are Razzies → Every element in B is also in R. In other words, B is a subset of R: **B ⊆ R**.\n",
      "2. All Razzies are Lazzies → Every element in R is also in L. So, R is a subset of L: **R ⊆ L**.\n",
      "\n",
      "### Visualizing with Venn Diagrams\n",
      "\n",
      "Sometimes, drawing a Venn diagram helps visualize these relationships.\n",
      "\n",
      "1. Draw three circles representing B, R, and L.\n",
      "   - Since B ⊆ R, the B circle is entirely inside the R circle.\n",
      "   - Since R ⊆ L, the R circle (which already contains B) is entirely inside the L circle.\n",
      "   \n",
      "This means the B circle is nested inside the R circle, which is nested inside the L circle. Therefore, the B circle is entirely within the L circle.\n",
      "\n",
      "### Logical Deduction\n",
      "\n",
      "Now, let's think logically without the diagram.\n",
      "\n",
      "- If every Bloop is a Razzie (B ⊆ R), then being a Bloop means you're automatically a Razzie.\n",
      "- And if every Razzie is a Lazzie (R ⊆ L), then being a Razzie means you're automatically a Lazzie.\n",
      "  \n",
      "So, if you're a Bloop:\n",
      "- You're a Razzie (from the first statement).\n",
      "- Since you're a Razzie, you're a Lazzie (from the second statement).\n",
      "\n",
      "Therefore, every Bloop is a Lazzie.\n",
      "\n",
      "### Checking for Counterexamples\n",
      "\n",
      "To ensure that this is definitely true, let's see if there's any scenario where a Bloop is not a Lazzie.\n",
      "\n",
      "Assume there's a Bloop that is not a Lazzie:\n",
      "- But all Bloops are Razzies, so this Bloop is a Razzie.\n",
      "- All Razzies are Lazzies, so this Razzie must be a Lazzie.\n",
      "  \n",
      "This contradicts our assumption that the Bloop is not a Lazzie. Hence, no such Bloop exists.\n",
      "\n",
      "### Potential Missteps\n",
      "\n",
      "At first glance, one might wonder if there's a hidden exception or if the categories overlap in a way that doesn't guarantee all Bloops are Lazzies. But given that the statements are absolute (\"all\"), there's no wiggle room:\n",
      "\n",
      "- \"All Bloops are Razzies\" leaves no Bloops outside Razzies.\n",
      "- \"All Razzies are Lazzies\" leaves no Razzies outside Lazzies.\n",
      "\n",
      "Thus, Bloops can't escape being Lazzies.\n",
      "\n",
      "### Formal Logic Perspective\n",
      "\n",
      "In formal logic, this is an example of a syllogism, specifically a Barbara syllogism (a type of valid deductive reasoning):\n",
      "\n",
      "1. All B are R.\n",
      "2. All R are L.\n",
      "3. Therefore, all B are L.\n",
      "\n",
      "This structure is universally valid in classical logic.\n",
      "\n",
      "### Real-world Analogy\n",
      "\n",
      "To make it more concrete, let's use a real-world example:\n",
      "\n",
      "- Let Bloops = Apples, Razzies = Fruits, Lazzies = Foods.\n",
      "  \n",
      "Statements:\n",
      "1. All apples are fruits.\n",
      "2. All fruits are foods.\n",
      "  \n",
      "Conclusion: All apples are foods.\n",
      "\n",
      "This makes intuitive sense and aligns with our original problem.\n",
      "\n",
      "### Conclusion\n",
      "\n",
      "After carefully analyzing the statements, visualizing the relationships, checking for counterexamples, and considering formal logic, it's clear that:\n",
      "\n",
      "**Yes, all Bloops are definitely Lazzies.**\n",
      "\n",
      "This is because if every Bloop is a Razzie and every Razzie is a Lazzie, then by transitivity, every Bloop must be a Lazzie. There's no way for a Bloop to exist outside of Lazzies given these premises.\n"
     ]
    }
   ],
   "source": [
    "# Ask it again\n",
    "\n",
    "response = client.chat.completions.create(\n",
    "    model=\"deepseek-chat\",\n",
    "    messages=messages\n",
    ")\n",
    "\n",
    "answer = response.choices[0].message.content\n",
    "print(answer)\n"
   ]
  },
  {
   "cell_type": "code",
   "execution_count": 35,
   "metadata": {},
   "outputs": [
    {
     "data": {
      "text/markdown": [
       "Alright, let's tackle this problem step by step. I'm going to break it down to understand whether all Bloops are definitely Lazzies given the two statements.\n",
       "\n",
       "### Understanding the Given Statements\n",
       "\n",
       "We have two statements:\n",
       "\n",
       "1. **All Bloops are Razzies.**\n",
       "2. **All Razzies are Lazzies.**\n",
       "\n",
       "Our goal is to determine if it necessarily follows that **all Bloops are definitely Lazzies**.\n",
       "\n",
       "### Translating to Logical Terms\n",
       "\n",
       "First, let's think about what these statements mean in terms of sets or categories.\n",
       "\n",
       "- Let **B** represent the set of all Bloops.\n",
       "- Let **R** represent the set of all Razzies.\n",
       "- Let **L** represent the set of all Lazzies.\n",
       "\n",
       "Now, the statements can be rewritten as:\n",
       "\n",
       "1. All Bloops are Razzies → Every element in B is also in R. In other words, B is a subset of R: **B ⊆ R**.\n",
       "2. All Razzies are Lazzies → Every element in R is also in L. So, R is a subset of L: **R ⊆ L**.\n",
       "\n",
       "### Visualizing with Venn Diagrams\n",
       "\n",
       "Sometimes, drawing a Venn diagram helps visualize these relationships.\n",
       "\n",
       "1. Draw three circles representing B, R, and L.\n",
       "   - Since B ⊆ R, the B circle is entirely inside the R circle.\n",
       "   - Since R ⊆ L, the R circle (which already contains B) is entirely inside the L circle.\n",
       "   \n",
       "This means the B circle is nested inside the R circle, which is nested inside the L circle. Therefore, the B circle is entirely within the L circle.\n",
       "\n",
       "### Logical Deduction\n",
       "\n",
       "Now, let's think logically without the diagram.\n",
       "\n",
       "- If every Bloop is a Razzie (B ⊆ R), then being a Bloop means you're automatically a Razzie.\n",
       "- And if every Razzie is a Lazzie (R ⊆ L), then being a Razzie means you're automatically a Lazzie.\n",
       "  \n",
       "So, if you're a Bloop:\n",
       "- You're a Razzie (from the first statement).\n",
       "- Since you're a Razzie, you're a Lazzie (from the second statement).\n",
       "\n",
       "Therefore, every Bloop is a Lazzie.\n",
       "\n",
       "### Checking for Counterexamples\n",
       "\n",
       "To ensure that this is definitely true, let's see if there's any scenario where a Bloop is not a Lazzie.\n",
       "\n",
       "Assume there's a Bloop that is not a Lazzie:\n",
       "- But all Bloops are Razzies, so this Bloop is a Razzie.\n",
       "- All Razzies are Lazzies, so this Razzie must be a Lazzie.\n",
       "  \n",
       "This contradicts our assumption that the Bloop is not a Lazzie. Hence, no such Bloop exists.\n",
       "\n",
       "### Potential Missteps\n",
       "\n",
       "At first glance, one might wonder if there's a hidden exception or if the categories overlap in a way that doesn't guarantee all Bloops are Lazzies. But given that the statements are absolute (\"all\"), there's no wiggle room:\n",
       "\n",
       "- \"All Bloops are Razzies\" leaves no Bloops outside Razzies.\n",
       "- \"All Razzies are Lazzies\" leaves no Razzies outside Lazzies.\n",
       "\n",
       "Thus, Bloops can't escape being Lazzies.\n",
       "\n",
       "### Formal Logic Perspective\n",
       "\n",
       "In formal logic, this is an example of a syllogism, specifically a Barbara syllogism (a type of valid deductive reasoning):\n",
       "\n",
       "1. All B are R.\n",
       "2. All R are L.\n",
       "3. Therefore, all B are L.\n",
       "\n",
       "This structure is universally valid in classical logic.\n",
       "\n",
       "### Real-world Analogy\n",
       "\n",
       "To make it more concrete, let's use a real-world example:\n",
       "\n",
       "- Let Bloops = Apples, Razzies = Fruits, Lazzies = Foods.\n",
       "  \n",
       "Statements:\n",
       "1. All apples are fruits.\n",
       "2. All fruits are foods.\n",
       "  \n",
       "Conclusion: All apples are foods.\n",
       "\n",
       "This makes intuitive sense and aligns with our original problem.\n",
       "\n",
       "### Conclusion\n",
       "\n",
       "After carefully analyzing the statements, visualizing the relationships, checking for counterexamples, and considering formal logic, it's clear that:\n",
       "\n",
       "**Yes, all Bloops are definitely Lazzies.**\n",
       "\n",
       "This is because if every Bloop is a Razzie and every Razzie is a Lazzie, then by transitivity, every Bloop must be a Lazzie. There's no way for a Bloop to exist outside of Lazzies given these premises."
      ],
      "text/plain": [
       "<IPython.core.display.Markdown object>"
      ]
     },
     "metadata": {},
     "output_type": "display_data"
    }
   ],
   "source": [
    "from IPython.display import Markdown, display\n",
    "\n",
    "display(Markdown(answer))\n",
    "\n"
   ]
  },
  {
   "cell_type": "markdown",
   "metadata": {},
   "source": [
    "# Congratulations!\n",
    "\n",
    "That was a small, simple step in the direction of Agentic AI, with your new environment!\n",
    "\n",
    "Next time things get more interesting..."
   ]
  },
  {
   "cell_type": "markdown",
   "metadata": {},
   "source": [
    "<table style=\"margin: 0; text-align: left; width:100%\">\n",
    "    <tr>\n",
    "        <td style=\"width: 150px; height: 150px; vertical-align: middle;\">\n",
    "            <img src=\"../assets/exercise.png\" width=\"150\" height=\"150\" style=\"display: block;\" />\n",
    "        </td>\n",
    "        <td>\n",
    "            <h2 style=\"color:#ff7800;\">Exercise</h2>\n",
    "            <span style=\"color:#ff7800;\">Now try this commercial application:<br/>\n",
    "            First ask the LLM to pick a business area that might be worth exploring for an Agentic AI opportunity.<br/>\n",
    "            Then ask the LLM to present a pain-point in that industry - something challenging that might be ripe for an Agentic solution.<br/>\n",
    "            Finally have 3 third LLM call propose the Agentic AI solution.\n",
    "            </span>\n",
    "        </td>\n",
    "    </tr>\n",
    "</table>"
   ]
  },
  {
   "cell_type": "code",
   "execution_count": 39,
   "metadata": {},
   "outputs": [
    {
     "data": {
      "text/markdown": [
       "One significant **pain point** in the **AI-Powered Legal Contract Analysis and Negotiation** space is:  \n",
       "\n",
       "### **\"Lack of Trust in AI's Judgment for High-Stakes Negotiations\"**  \n",
       "\n",
       "#### **Why This Hurts Adoption:**  \n",
       "1. **Risk Aversion in Legal Industry**: Lawyers and corporations hesitate to rely on AI for critical contract terms (e.g., indemnification, IP ownership) due to fears of errors or liability.  \n",
       "2. **Black Box Problem**: Even advanced LLMs struggle to **explain why** a clause is risky or how a suggested edit aligns with precedent—eroding confidence.  \n",
       "3. **Over-Cautious AI**: To avoid liability, AI tools may flag excessive \"false positives\" (e.g., labeling standard clauses as risky), wasting time on unnecessary reviews.  \n",
       "4. **Human-in-the-Loop Fatigue**: If the AI requires constant lawyer oversight, it defeats the purpose of automation.  \n",
       "\n",
       "#### **How It Manifests in the Market:**  \n",
       "- Law firms use AI only for **first-pass reviews**, relegating it to a \"glorified Ctrl+F\" tool.  \n",
       "- Corporates pilot AI tools but revert to manual reviews for high-value contracts (e.g., M&A).  \n",
       "- Vendors face **low conversion** from free tiers to paid plans because users don’t trust AI enough to pay for autonomous features.  \n",
       "\n",
       "#### **Opportunity for Differentiation:**  \n",
       "A solution could address this by:  \n",
       "- **\"Auditable AI\"**: Show **case law references** or **historical negotiation data** behind every suggestion (e.g., \"80% of similar contracts in your industry cap liability at $X\").  \n",
       "- **Risk Scoring with Context**: Instead of binary \"risky/safe\" labels, provide tiered risk explanations (e.g., \"Moderate risk: This indemnification clause lacks mutual reciprocity—see *Smith v. Jones* ruling\").  \n",
       "- **Negotiation Simulator**: Let users test AI-proposed edits in a sandbox environment before sending to counterparts.  \n",
       "\n",
       "This pain point is **critical to solve** because trust is the bottleneck preventing AI from moving beyond \"assistant\" to **autonomous agent** in legal workflows.  \n",
       "\n",
       "Would you like to explore technical or business strategies to tackle this?"
      ],
      "text/plain": [
       "<IPython.core.display.Markdown object>"
      ]
     },
     "metadata": {},
     "output_type": "display_data"
    }
   ],
   "source": [
    "# First create the messages:\n",
    "\n",
    "messages = [{\"role\": \"user\", \"content\": \"Choose a business area that might be worth exploring for an Agentic AI opportunity.\"}]\n",
    "\n",
    "# Then make the first call:\n",
    "\n",
    "response = client.chat.completions.create(\n",
    "    model=\"deepseek-chat\",\n",
    "    messages=messages\n",
    "\n",
    ")\n",
    "\n",
    "# Then read the business idea:\n",
    "\n",
    "business_idea = response.choices[0].message.content\n",
    "\n",
    "# And repeat!\n",
    "\n",
    "messages = [{\"role\": \"user\", \"content\": \"Please propose a pain-point in the industry of the following business idea: \" + business_idea}]\n",
    "\n",
    "response = client.chat.completions.create(\n",
    "    model=\"deepseek-chat\",\n",
    "    messages=messages\n",
    ")\n",
    "\n",
    "answer = response.choices[0].message.content\n",
    "\n",
    "\n",
    "from IPython.display import Markdown, display\n",
    "\n",
    "display(Markdown(answer))\n",
    "\n",
    "\n",
    "\n"
   ]
  },
  {
   "cell_type": "markdown",
   "metadata": {},
   "source": []
  }
 ],
 "metadata": {
  "kernelspec": {
   "display_name": ".venv",
   "language": "python",
   "name": "python3"
  },
  "language_info": {
   "codemirror_mode": {
    "name": "ipython",
    "version": 3
   },
   "file_extension": ".py",
   "mimetype": "text/x-python",
   "name": "python",
   "nbconvert_exporter": "python",
   "pygments_lexer": "ipython3",
   "version": "3.12.4"
  }
 },
 "nbformat": 4,
 "nbformat_minor": 2
}
